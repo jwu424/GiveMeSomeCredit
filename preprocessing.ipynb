{
 "cells": [
  {
   "cell_type": "markdown",
   "metadata": {},
   "source": [
    "GiveMeSomeCredit---Kaggle"
   ]
  },
  {
   "cell_type": "code",
   "execution_count": 1,
   "metadata": {},
   "outputs": [
    {
     "name": "stderr",
     "output_type": "stream",
     "text": [
      "/anaconda3/lib/python3.6/site-packages/sklearn/ensemble/weight_boosting.py:29: DeprecationWarning: numpy.core.umath_tests is an internal NumPy module and should not be imported. It will be removed in a future NumPy release.\n",
      "  from numpy.core.umath_tests import inner1d\n",
      "/anaconda3/lib/python3.6/site-packages/sklearn/cross_validation.py:41: DeprecationWarning: This module was deprecated in version 0.18 in favor of the model_selection module into which all the refactored classes and functions are moved. Also note that the interface of the new CV iterators are different from that of this module. This module will be removed in 0.20.\n",
      "  \"This module will be removed in 0.20.\", DeprecationWarning)\n"
     ]
    }
   ],
   "source": [
    "import pandas as pd\n",
    "import numpy as np\n",
    "from sklearn.ensemble import RandomForestRegressor\n",
    "import seaborn as sns\n",
    "import matplotlib.pyplot as plt\n",
    "from sklearn.cross_validation import train_test_split\n",
    "from scipy import stats"
   ]
  },
  {
   "cell_type": "code",
   "execution_count": 2,
   "metadata": {},
   "outputs": [],
   "source": [
    "train_data = pd.read_csv(\"~/data/kaggle/GiveMeSomeCredit/cs-training.csv\", index_col=0)\n",
    "test_data = pd.read_csv(\"~/data/kaggle/GiveMeSomeCredit/cs-test.csv\", index_col=0)\n"
   ]
  },
  {
   "cell_type": "markdown",
   "metadata": {},
   "source": [
    "There are 150k records. For MonthlyIncome and Number of Dependents, there are some missing data. We should fix this problem."
   ]
  },
  {
   "cell_type": "code",
   "execution_count": 3,
   "metadata": {},
   "outputs": [
    {
     "data": {
      "text/html": [
       "<div>\n",
       "<style scoped>\n",
       "    .dataframe tbody tr th:only-of-type {\n",
       "        vertical-align: middle;\n",
       "    }\n",
       "\n",
       "    .dataframe tbody tr th {\n",
       "        vertical-align: top;\n",
       "    }\n",
       "\n",
       "    .dataframe thead th {\n",
       "        text-align: right;\n",
       "    }\n",
       "</style>\n",
       "<table border=\"1\" class=\"dataframe\">\n",
       "  <thead>\n",
       "    <tr style=\"text-align: right;\">\n",
       "      <th></th>\n",
       "      <th>SeriousDlqin2yrs</th>\n",
       "      <th>RevolvingUtilizationOfUnsecuredLines</th>\n",
       "      <th>age</th>\n",
       "      <th>NumberOfTime30-59DaysPastDueNotWorse</th>\n",
       "      <th>DebtRatio</th>\n",
       "      <th>MonthlyIncome</th>\n",
       "      <th>NumberOfOpenCreditLinesAndLoans</th>\n",
       "      <th>NumberOfTimes90DaysLate</th>\n",
       "      <th>NumberRealEstateLoansOrLines</th>\n",
       "      <th>NumberOfTime60-89DaysPastDueNotWorse</th>\n",
       "      <th>NumberOfDependents</th>\n",
       "    </tr>\n",
       "  </thead>\n",
       "  <tbody>\n",
       "    <tr>\n",
       "      <th>count</th>\n",
       "      <td>150000.000000</td>\n",
       "      <td>150000.000000</td>\n",
       "      <td>150000.000000</td>\n",
       "      <td>150000.000000</td>\n",
       "      <td>150000.000000</td>\n",
       "      <td>1.202690e+05</td>\n",
       "      <td>150000.000000</td>\n",
       "      <td>150000.000000</td>\n",
       "      <td>150000.000000</td>\n",
       "      <td>150000.000000</td>\n",
       "      <td>146076.000000</td>\n",
       "    </tr>\n",
       "    <tr>\n",
       "      <th>mean</th>\n",
       "      <td>0.066840</td>\n",
       "      <td>6.048438</td>\n",
       "      <td>52.295207</td>\n",
       "      <td>0.421033</td>\n",
       "      <td>353.005076</td>\n",
       "      <td>6.670221e+03</td>\n",
       "      <td>8.452760</td>\n",
       "      <td>0.265973</td>\n",
       "      <td>1.018240</td>\n",
       "      <td>0.240387</td>\n",
       "      <td>0.757222</td>\n",
       "    </tr>\n",
       "    <tr>\n",
       "      <th>std</th>\n",
       "      <td>0.249746</td>\n",
       "      <td>249.755371</td>\n",
       "      <td>14.771866</td>\n",
       "      <td>4.192781</td>\n",
       "      <td>2037.818523</td>\n",
       "      <td>1.438467e+04</td>\n",
       "      <td>5.145951</td>\n",
       "      <td>4.169304</td>\n",
       "      <td>1.129771</td>\n",
       "      <td>4.155179</td>\n",
       "      <td>1.115086</td>\n",
       "    </tr>\n",
       "    <tr>\n",
       "      <th>min</th>\n",
       "      <td>0.000000</td>\n",
       "      <td>0.000000</td>\n",
       "      <td>0.000000</td>\n",
       "      <td>0.000000</td>\n",
       "      <td>0.000000</td>\n",
       "      <td>0.000000e+00</td>\n",
       "      <td>0.000000</td>\n",
       "      <td>0.000000</td>\n",
       "      <td>0.000000</td>\n",
       "      <td>0.000000</td>\n",
       "      <td>0.000000</td>\n",
       "    </tr>\n",
       "    <tr>\n",
       "      <th>25%</th>\n",
       "      <td>0.000000</td>\n",
       "      <td>0.029867</td>\n",
       "      <td>41.000000</td>\n",
       "      <td>0.000000</td>\n",
       "      <td>0.175074</td>\n",
       "      <td>3.400000e+03</td>\n",
       "      <td>5.000000</td>\n",
       "      <td>0.000000</td>\n",
       "      <td>0.000000</td>\n",
       "      <td>0.000000</td>\n",
       "      <td>0.000000</td>\n",
       "    </tr>\n",
       "    <tr>\n",
       "      <th>50%</th>\n",
       "      <td>0.000000</td>\n",
       "      <td>0.154181</td>\n",
       "      <td>52.000000</td>\n",
       "      <td>0.000000</td>\n",
       "      <td>0.366508</td>\n",
       "      <td>5.400000e+03</td>\n",
       "      <td>8.000000</td>\n",
       "      <td>0.000000</td>\n",
       "      <td>1.000000</td>\n",
       "      <td>0.000000</td>\n",
       "      <td>0.000000</td>\n",
       "    </tr>\n",
       "    <tr>\n",
       "      <th>75%</th>\n",
       "      <td>0.000000</td>\n",
       "      <td>0.559046</td>\n",
       "      <td>63.000000</td>\n",
       "      <td>0.000000</td>\n",
       "      <td>0.868254</td>\n",
       "      <td>8.249000e+03</td>\n",
       "      <td>11.000000</td>\n",
       "      <td>0.000000</td>\n",
       "      <td>2.000000</td>\n",
       "      <td>0.000000</td>\n",
       "      <td>1.000000</td>\n",
       "    </tr>\n",
       "    <tr>\n",
       "      <th>max</th>\n",
       "      <td>1.000000</td>\n",
       "      <td>50708.000000</td>\n",
       "      <td>109.000000</td>\n",
       "      <td>98.000000</td>\n",
       "      <td>329664.000000</td>\n",
       "      <td>3.008750e+06</td>\n",
       "      <td>58.000000</td>\n",
       "      <td>98.000000</td>\n",
       "      <td>54.000000</td>\n",
       "      <td>98.000000</td>\n",
       "      <td>20.000000</td>\n",
       "    </tr>\n",
       "  </tbody>\n",
       "</table>\n",
       "</div>"
      ],
      "text/plain": [
       "       SeriousDlqin2yrs  RevolvingUtilizationOfUnsecuredLines            age  \\\n",
       "count     150000.000000                         150000.000000  150000.000000   \n",
       "mean           0.066840                              6.048438      52.295207   \n",
       "std            0.249746                            249.755371      14.771866   \n",
       "min            0.000000                              0.000000       0.000000   \n",
       "25%            0.000000                              0.029867      41.000000   \n",
       "50%            0.000000                              0.154181      52.000000   \n",
       "75%            0.000000                              0.559046      63.000000   \n",
       "max            1.000000                          50708.000000     109.000000   \n",
       "\n",
       "       NumberOfTime30-59DaysPastDueNotWorse      DebtRatio  MonthlyIncome  \\\n",
       "count                         150000.000000  150000.000000   1.202690e+05   \n",
       "mean                               0.421033     353.005076   6.670221e+03   \n",
       "std                                4.192781    2037.818523   1.438467e+04   \n",
       "min                                0.000000       0.000000   0.000000e+00   \n",
       "25%                                0.000000       0.175074   3.400000e+03   \n",
       "50%                                0.000000       0.366508   5.400000e+03   \n",
       "75%                                0.000000       0.868254   8.249000e+03   \n",
       "max                               98.000000  329664.000000   3.008750e+06   \n",
       "\n",
       "       NumberOfOpenCreditLinesAndLoans  NumberOfTimes90DaysLate  \\\n",
       "count                    150000.000000            150000.000000   \n",
       "mean                          8.452760                 0.265973   \n",
       "std                           5.145951                 4.169304   \n",
       "min                           0.000000                 0.000000   \n",
       "25%                           5.000000                 0.000000   \n",
       "50%                           8.000000                 0.000000   \n",
       "75%                          11.000000                 0.000000   \n",
       "max                          58.000000                98.000000   \n",
       "\n",
       "       NumberRealEstateLoansOrLines  NumberOfTime60-89DaysPastDueNotWorse  \\\n",
       "count                 150000.000000                         150000.000000   \n",
       "mean                       1.018240                              0.240387   \n",
       "std                        1.129771                              4.155179   \n",
       "min                        0.000000                              0.000000   \n",
       "25%                        0.000000                              0.000000   \n",
       "50%                        1.000000                              0.000000   \n",
       "75%                        2.000000                              0.000000   \n",
       "max                       54.000000                             98.000000   \n",
       "\n",
       "       NumberOfDependents  \n",
       "count       146076.000000  \n",
       "mean             0.757222  \n",
       "std              1.115086  \n",
       "min              0.000000  \n",
       "25%              0.000000  \n",
       "50%              0.000000  \n",
       "75%              1.000000  \n",
       "max             20.000000  "
      ]
     },
     "execution_count": 3,
     "metadata": {},
     "output_type": "execute_result"
    }
   ],
   "source": [
    "train_data.describe()"
   ]
  },
  {
   "cell_type": "markdown",
   "metadata": {},
   "source": [
    "# Missing data\n",
    "Since MonthlyIncome has a lot of missing data, if we directly delete the these rows, we may loss a lot of information. Thus, we try to fill them. For example, we can choose random forest."
   ]
  },
  {
   "cell_type": "code",
   "execution_count": 4,
   "metadata": {},
   "outputs": [],
   "source": [
    "df = train_data.iloc[:, [5, 0, 1, 2, 3, 4, 6, 7, 8, 9]]"
   ]
  },
  {
   "cell_type": "code",
   "execution_count": 5,
   "metadata": {},
   "outputs": [
    {
     "data": {
      "text/html": [
       "<div>\n",
       "<style scoped>\n",
       "    .dataframe tbody tr th:only-of-type {\n",
       "        vertical-align: middle;\n",
       "    }\n",
       "\n",
       "    .dataframe tbody tr th {\n",
       "        vertical-align: top;\n",
       "    }\n",
       "\n",
       "    .dataframe thead th {\n",
       "        text-align: right;\n",
       "    }\n",
       "</style>\n",
       "<table border=\"1\" class=\"dataframe\">\n",
       "  <thead>\n",
       "    <tr style=\"text-align: right;\">\n",
       "      <th></th>\n",
       "      <th>MonthlyIncome</th>\n",
       "      <th>SeriousDlqin2yrs</th>\n",
       "      <th>RevolvingUtilizationOfUnsecuredLines</th>\n",
       "      <th>age</th>\n",
       "      <th>NumberOfTime30-59DaysPastDueNotWorse</th>\n",
       "      <th>DebtRatio</th>\n",
       "      <th>NumberOfOpenCreditLinesAndLoans</th>\n",
       "      <th>NumberOfTimes90DaysLate</th>\n",
       "      <th>NumberRealEstateLoansOrLines</th>\n",
       "      <th>NumberOfTime60-89DaysPastDueNotWorse</th>\n",
       "    </tr>\n",
       "  </thead>\n",
       "  <tbody>\n",
       "    <tr>\n",
       "      <th>1</th>\n",
       "      <td>9120.0</td>\n",
       "      <td>1</td>\n",
       "      <td>0.766127</td>\n",
       "      <td>45</td>\n",
       "      <td>2</td>\n",
       "      <td>0.802982</td>\n",
       "      <td>13</td>\n",
       "      <td>0</td>\n",
       "      <td>6</td>\n",
       "      <td>0</td>\n",
       "    </tr>\n",
       "    <tr>\n",
       "      <th>2</th>\n",
       "      <td>2600.0</td>\n",
       "      <td>0</td>\n",
       "      <td>0.957151</td>\n",
       "      <td>40</td>\n",
       "      <td>0</td>\n",
       "      <td>0.121876</td>\n",
       "      <td>4</td>\n",
       "      <td>0</td>\n",
       "      <td>0</td>\n",
       "      <td>0</td>\n",
       "    </tr>\n",
       "    <tr>\n",
       "      <th>3</th>\n",
       "      <td>3042.0</td>\n",
       "      <td>0</td>\n",
       "      <td>0.658180</td>\n",
       "      <td>38</td>\n",
       "      <td>1</td>\n",
       "      <td>0.085113</td>\n",
       "      <td>2</td>\n",
       "      <td>1</td>\n",
       "      <td>0</td>\n",
       "      <td>0</td>\n",
       "    </tr>\n",
       "    <tr>\n",
       "      <th>4</th>\n",
       "      <td>3300.0</td>\n",
       "      <td>0</td>\n",
       "      <td>0.233810</td>\n",
       "      <td>30</td>\n",
       "      <td>0</td>\n",
       "      <td>0.036050</td>\n",
       "      <td>5</td>\n",
       "      <td>0</td>\n",
       "      <td>0</td>\n",
       "      <td>0</td>\n",
       "    </tr>\n",
       "    <tr>\n",
       "      <th>5</th>\n",
       "      <td>63588.0</td>\n",
       "      <td>0</td>\n",
       "      <td>0.907239</td>\n",
       "      <td>49</td>\n",
       "      <td>1</td>\n",
       "      <td>0.024926</td>\n",
       "      <td>7</td>\n",
       "      <td>0</td>\n",
       "      <td>1</td>\n",
       "      <td>0</td>\n",
       "    </tr>\n",
       "  </tbody>\n",
       "</table>\n",
       "</div>"
      ],
      "text/plain": [
       "   MonthlyIncome  SeriousDlqin2yrs  RevolvingUtilizationOfUnsecuredLines  age  \\\n",
       "1         9120.0                 1                              0.766127   45   \n",
       "2         2600.0                 0                              0.957151   40   \n",
       "3         3042.0                 0                              0.658180   38   \n",
       "4         3300.0                 0                              0.233810   30   \n",
       "5        63588.0                 0                              0.907239   49   \n",
       "\n",
       "   NumberOfTime30-59DaysPastDueNotWorse  DebtRatio  \\\n",
       "1                                     2   0.802982   \n",
       "2                                     0   0.121876   \n",
       "3                                     1   0.085113   \n",
       "4                                     0   0.036050   \n",
       "5                                     1   0.024926   \n",
       "\n",
       "   NumberOfOpenCreditLinesAndLoans  NumberOfTimes90DaysLate  \\\n",
       "1                               13                        0   \n",
       "2                                4                        0   \n",
       "3                                2                        1   \n",
       "4                                5                        0   \n",
       "5                                7                        0   \n",
       "\n",
       "   NumberRealEstateLoansOrLines  NumberOfTime60-89DaysPastDueNotWorse  \n",
       "1                             6                                     0  \n",
       "2                             0                                     0  \n",
       "3                             0                                     0  \n",
       "4                             0                                     0  \n",
       "5                             1                                     0  "
      ]
     },
     "execution_count": 5,
     "metadata": {},
     "output_type": "execute_result"
    }
   ],
   "source": [
    "df.head()"
   ]
  },
  {
   "cell_type": "code",
   "execution_count": 6,
   "metadata": {},
   "outputs": [],
   "source": [
    "known = df.loc[df.MonthlyIncome.notnull(), :]\n",
    "unknown = df.loc[df.MonthlyIncome.isnull(), :]"
   ]
  },
  {
   "cell_type": "code",
   "execution_count": 7,
   "metadata": {},
   "outputs": [],
   "source": [
    "X = known.iloc[:, 1:]\n",
    "y = known.iloc[:, 0]"
   ]
  },
  {
   "cell_type": "code",
   "execution_count": 8,
   "metadata": {},
   "outputs": [
    {
     "data": {
      "text/plain": [
       "RandomForestRegressor(bootstrap=True, criterion='mse', max_depth=3,\n",
       "           max_features='auto', max_leaf_nodes=None,\n",
       "           min_impurity_decrease=0.0, min_impurity_split=None,\n",
       "           min_samples_leaf=1, min_samples_split=2,\n",
       "           min_weight_fraction_leaf=0.0, n_estimators=200, n_jobs=-1,\n",
       "           oob_score=False, random_state=0, verbose=0, warm_start=False)"
      ]
     },
     "execution_count": 8,
     "metadata": {},
     "output_type": "execute_result"
    }
   ],
   "source": [
    "model = RandomForestRegressor(random_state=0, n_estimators=200,\n",
    "                              max_depth=3, n_jobs=-1)\n",
    "model.fit(X, y)"
   ]
  },
  {
   "cell_type": "code",
   "execution_count": 9,
   "metadata": {},
   "outputs": [],
   "source": [
    "pred = model.predict(unknown.iloc[:, 1:]).round(0)"
   ]
  },
  {
   "cell_type": "code",
   "execution_count": 10,
   "metadata": {},
   "outputs": [],
   "source": [
    "train_data.loc[(train_data.MonthlyIncome.isnull()), 'MonthlyIncome'] = pred"
   ]
  },
  {
   "cell_type": "markdown",
   "metadata": {},
   "source": [
    "For the NumberOfDependents, since it doesn't have many missing records, we just drop them."
   ]
  },
  {
   "cell_type": "code",
   "execution_count": 11,
   "metadata": {},
   "outputs": [
    {
     "data": {
      "text/plain": [
       "(146076, 11)"
      ]
     },
     "execution_count": 11,
     "metadata": {},
     "output_type": "execute_result"
    }
   ],
   "source": [
    "train_data = train_data.dropna()\n",
    "train_data.shape"
   ]
  },
  {
   "cell_type": "markdown",
   "metadata": {},
   "source": [
    "# Abnormal data\n",
    "Then, we should check and deal with the abnormal data points. From the describtion of the data, we can see that the minimun of age is 0, which is abnormal."
   ]
  },
  {
   "cell_type": "code",
   "execution_count": 11,
   "metadata": {},
   "outputs": [],
   "source": [
    "train_data = train_data.loc[train_data.age > 0, :]"
   ]
  },
  {
   "cell_type": "code",
   "execution_count": 12,
   "metadata": {
    "scrolled": true
   },
   "outputs": [
    {
     "data": {
      "text/plain": [
       "(146075, 11)"
      ]
     },
     "execution_count": 12,
     "metadata": {},
     "output_type": "execute_result"
    }
   ],
   "source": [
    "train_data.shape"
   ]
  },
  {
   "cell_type": "markdown",
   "metadata": {},
   "source": [
    "From the boxplots below, we can find that for NumberOfTime30-59DaysPastDueNotWorse、NumberOfTimes90DaysLate and NumberOfTime60-89DaysPastDueNotWorse, there are sveral abnormal data points."
   ]
  },
  {
   "cell_type": "code",
   "execution_count": 13,
   "metadata": {
    "scrolled": false
   },
   "outputs": [],
   "source": [
    "# plt.figure(figsize=(16, 30))\n",
    "# for i in range(1, 12):\n",
    "#     plt.subplot(6, 2, i)\n",
    "#     plt.boxplot(x=train_data.iloc[:, i-1], labels=[train_data.columns[i-1]])"
   ]
  },
  {
   "cell_type": "code",
   "execution_count": 14,
   "metadata": {},
   "outputs": [],
   "source": [
    "train_data = train_data.loc[train_data.NumberOfTimes90DaysLate < 90, :]"
   ]
  },
  {
   "cell_type": "code",
   "execution_count": 15,
   "metadata": {},
   "outputs": [],
   "source": [
    "# plt.figure(figsize=(16, 30))\n",
    "# for i in range(1, 12):\n",
    "#     plt.subplot(6, 2, i)\n",
    "#     plt.boxplot(x=train_data.iloc[:, i-1], labels=[train_data.columns[i-1]])"
   ]
  },
  {
   "cell_type": "markdown",
   "metadata": {},
   "source": [
    "And also, we should reverse the SeriousDlqin2yrs."
   ]
  },
  {
   "cell_type": "code",
   "execution_count": 16,
   "metadata": {},
   "outputs": [],
   "source": [
    "train_data['SeriousDlqin2yrs'] = 1- train_data['SeriousDlqin2yrs']"
   ]
  },
  {
   "cell_type": "code",
   "execution_count": 17,
   "metadata": {},
   "outputs": [],
   "source": [
    "y = train_data.iloc[:, 0]\n",
    "X = train_data.iloc[:, 1:]"
   ]
  },
  {
   "cell_type": "code",
   "execution_count": 18,
   "metadata": {},
   "outputs": [],
   "source": [
    "# X_train, X_test, y_train, y_test = train_test_split(\n",
    "#     X, y, test_size=0.2, random_state=42)"
   ]
  },
  {
   "cell_type": "code",
   "execution_count": 19,
   "metadata": {},
   "outputs": [
    {
     "data": {
      "text/plain": [
       "(array([8.6714e+04, 0.0000e+00, 2.6293e+04, 0.0000e+00, 1.9501e+04,\n",
       "        0.0000e+00, 9.4790e+03, 0.0000e+00, 2.8600e+03, 0.0000e+00,\n",
       "        7.4500e+02, 0.0000e+00, 1.5800e+02, 0.0000e+00, 5.1000e+01,\n",
       "        0.0000e+00, 2.4000e+01, 0.0000e+00, 5.0000e+00, 0.0000e+00,\n",
       "        5.0000e+00, 0.0000e+00, 0.0000e+00, 0.0000e+00, 0.0000e+00,\n",
       "        0.0000e+00, 1.0000e+00, 0.0000e+00, 0.0000e+00, 0.0000e+00,\n",
       "        0.0000e+00, 0.0000e+00, 0.0000e+00, 0.0000e+00, 0.0000e+00,\n",
       "        0.0000e+00, 0.0000e+00, 0.0000e+00, 0.0000e+00, 1.0000e+00]),\n",
       " array([ 0. ,  0.5,  1. ,  1.5,  2. ,  2.5,  3. ,  3.5,  4. ,  4.5,  5. ,\n",
       "         5.5,  6. ,  6.5,  7. ,  7.5,  8. ,  8.5,  9. ,  9.5, 10. , 10.5,\n",
       "        11. , 11.5, 12. , 12.5, 13. , 13.5, 14. , 14.5, 15. , 15.5, 16. ,\n",
       "        16.5, 17. , 17.5, 18. , 18.5, 19. , 19.5, 20. ]),\n",
       " <a list of 40 Patch objects>)"
      ]
     },
     "execution_count": 19,
     "metadata": {},
     "output_type": "execute_result"
    },
    {
     "data": {
      "image/png": "[encoded data removed]",
      "text/plain": [
       "<Figure size 432x288 with 1 Axes>"
      ]
     },
     "metadata": {
      "needs_background": "light"
     },
     "output_type": "display_data"
    }
   ],
   "source": [
    "plt.hist(x=X.iloc[:, 9], bins=40, \n",
    "         facecolor=\"blue\", edgecolor=\"black\", alpha=0.7)"
   ]
  },
  {
   "cell_type": "code",
   "execution_count": 20,
   "metadata": {},
   "outputs": [
    {
     "data": {
      "text/plain": [
       "<matplotlib.axes._subplots.AxesSubplot at 0x105e8a080>"
      ]
     },
     "execution_count": 20,
     "metadata": {},
     "output_type": "execute_result"
    },
    {
     "data": {
      "image/png": "[encoded data removed]",
      "text/plain": [
       "<Figure size 432x288 with 1 Axes>"
      ]
     },
     "metadata": {
      "needs_background": "light"
     },
     "output_type": "display_data"
    }
   ],
   "source": [
    "train_data.loc[:, 'age'].plot('kde')"
   ]
  },
  {
   "cell_type": "code",
   "execution_count": 21,
   "metadata": {},
   "outputs": [],
   "source": [
    "def mono_bin1(Y, X, n = 20):\n",
    "    r = 0\n",
    "    good = Y.sum()\n",
    "    bad = Y.count() - good\n",
    "    while np.abs(r) < 1:\n",
    "        d1 = pd.DataFrame({'X':X, 'Y':Y, 'Bucket':pd.qcut(X, n, duplicates='drop')})\n",
    "        d2 = d1.groupby('Bucket', as_index = True)\n",
    "        r, p = stats.spearmanr(d2.mean().X, d2.mean().Y)\n",
    "        n = n - 1\n",
    "    d3 = pd.DataFrame(d2.X.min(), columns=['min'])\n",
    "    d3['min'] = d2.min().X\n",
    "    d3['max'] = d2.max().X\n",
    "    d3['sum'] = d2.sum().Y\n",
    "    d3['total'] = d2.count().Y\n",
    "    d3['rate'] = d2.mean().Y\n",
    "    d3['woe'] = np.log((d3['rate']/(1-d3['rate']))/(good/bad))\n",
    "    d4 = (d3.sort_values(by='min')).reset_index(drop=True)\n",
    "    return d4, n"
   ]
  },
  {
   "cell_type": "markdown",
   "metadata": {},
   "source": [
    "# IV\n",
    "We can see that most of variables are uncorrelated."
   ]
  },
  {
   "cell_type": "code",
   "execution_count": 22,
   "metadata": {},
   "outputs": [],
   "source": [
    "# corr = train_data.corr()\n",
    "# xticks = ['x0','x1','x2','x3','x4','x5','x6','x7','x8','x9','x10']\n",
    "# yticks = list(corr.index)\n",
    "\n",
    "# fig = plt.figure(figsize=(20, 20))\n",
    "# ax1 = fig.add_subplot(1, 1, 1)\n",
    "# sns.heatmap(corr, annot=True, cmap='rainbow', ax=ax1,\n",
    "#             annot_kws={'size': 9, 'weight': 'bold', 'color': 'blue'})\n",
    "# ax1.set_xticklabels(xticks, rotation=0, fontsize=10)\n",
    "# ax1.set_yticklabels(yticks, rotation=0, fontsize=10)\n",
    "# plt.show()"
   ]
  },
  {
   "cell_type": "code",
   "execution_count": 23,
   "metadata": {},
   "outputs": [],
   "source": [
    "def mono_bin2(Y, X, n = 20):\n",
    "    r = 0\n",
    "    good = Y.sum()\n",
    "    bad = Y.count() - good\n",
    "    while np.abs(r) < 1:\n",
    "        d1 = pd.DataFrame({'X':X, 'Y':Y, \n",
    "                           'Bucket':pd.qcut(X, n, duplicates='drop')})\n",
    "        d2 = d1.groupby('Bucket', as_index = True)\n",
    "        r, p = stats.spearmanr(d2.mean().X, d2.mean().Y)\n",
    "        n = n - 1\n",
    "    d3 = pd.DataFrame(d2.X.min(), columns=['min'])\n",
    "    d3['min'] = d2.min().X\n",
    "    d3['max'] = d2.max().X\n",
    "    d3['sum'] = d2.sum().Y\n",
    "    d3['total'] = d2.count().Y\n",
    "    d3['rate'] = d2.mean().Y\n",
    "    d3['woe'] = np.log((d3['rate']/(1-d3['rate']))/(good/bad))\n",
    "    d3['goodattribute'] = d3['sum'] / good\n",
    "    d3['badattribute'] = (d3['total'] - d3['sum']) / bad\n",
    "    iv=((d3['goodattribute']-d3['badattribute'])*d3['woe']).sum()\n",
    "    d4 = (d3.sort_values(by='min')).reset_index(drop=True)\n",
    "    cut = []\n",
    "    cut.append(float('-inf'))\n",
    "    for i in range(1, n+1):\n",
    "        qua = X.quantile(i/(n+1))\n",
    "        cut.append(round(qua, 4))\n",
    "    cut.append(float('inf'))\n",
    "    woe = list(d4['woe'].round(3))\n",
    "    return iv, cut, woe"
   ]
  },
  {
   "cell_type": "code",
   "execution_count": 24,
   "metadata": {},
   "outputs": [],
   "source": [
    "def self_bin(Y, X, cut):\n",
    "    good = Y.sum()\n",
    "    bad = Y.count() - good\n",
    "    d1 = pd.DataFrame({'X': X, 'Y': Y, 'Bucket':pd.cut(X, cut)})\n",
    "    d2 = d1.groupby('Bucket', as_index=True)\n",
    "    d3 = pd.DataFrame(d2.X.min(), columns=['min'])\n",
    "    d3['min'] = d2.min().X\n",
    "    d3['max'] = d2.max().X\n",
    "    d3['sum'] = d2.sum().Y\n",
    "    d3['total'] = d2.count().Y\n",
    "    d3['rate'] = d2.mean().Y\n",
    "    d3['woe'] = np.log((d3['rate']/(1-d3['rate']))/(good/bad))\n",
    "    d3['goodattribute'] = d3['sum'] / good\n",
    "    d3['badattribute'] = (d3['total'] - d3['sum']) / bad\n",
    "    iv=((d3['goodattribute']-d3['badattribute'])*d3['woe']).sum()\n",
    "    d4 = (d3.sort_values(by='min')).reset_index(drop=True)\n",
    "    woe = list(d4['woe'].round(3))\n",
    "    return iv, woe\n",
    "    "
   ]
  },
  {
   "cell_type": "code",
   "execution_count": 25,
   "metadata": {},
   "outputs": [],
   "source": [
    "ninf = np.float('-inf')\n",
    "pinf = np.float('inf')\n",
    "cutx3 = [ninf, 0, 1, 3, 5, pinf]\n",
    "cutx6 = [ninf, 1, 2, 3, 5, pinf]\n",
    "cutx7 = [ninf, 0, 1, 3, 5, pinf]\n",
    "cutx8 = [ninf, 0,1,2, 3, pinf]\n",
    "cutx9 = [ninf, 0, 1, 3, pinf]\n",
    "cutx10 = [ninf, 0, 1, 2, 3, 5, pinf]"
   ]
  },
  {
   "cell_type": "code",
   "execution_count": 26,
   "metadata": {},
   "outputs": [],
   "source": [
    "ivx1, cutx1, woex1 = mono_bin2(y,X.RevolvingUtilizationOfUnsecuredLines)\n",
    "ivx2, cutx2, woex2 = mono_bin2(y, X.age)\n",
    "ivx4, cutx4, woex4 = mono_bin2(y, X.DebtRatio)\n",
    "ivx5, cutx5, woex5 = mono_bin2(y, X.MonthlyIncome)\n"
   ]
  },
  {
   "cell_type": "code",
   "execution_count": 27,
   "metadata": {},
   "outputs": [],
   "source": [
    "ivx3, woex3 = self_bin(y, X['NumberOfTime30-59DaysPastDueNotWorse'], cutx3)\n",
    "ivx6, woex6 = self_bin(y, X['NumberOfOpenCreditLinesAndLoans'], cutx6)\n",
    "ivx7, woex7 = self_bin(y, X['NumberOfTimes90DaysLate'], cutx7)\n",
    "ivx8, woex8 = self_bin(y, X['NumberRealEstateLoansOrLines'], cutx8)\n",
    "ivx9, woex9 = self_bin(y, X['NumberOfTime60-89DaysPastDueNotWorse'], cutx9)\n",
    "ivx10,woex10 = self_bin(y, X['NumberOfDependents'], cutx10)"
   ]
  },
  {
   "cell_type": "code",
   "execution_count": 28,
   "metadata": {},
   "outputs": [],
   "source": [
    "ivlist = [ivx1, ivx2, ivx3, ivx4, ivx5, ivx6, ivx7, ivx8, ivx9, ivx10]\n"
   ]
  },
  {
   "cell_type": "code",
   "execution_count": 30,
   "metadata": {},
   "outputs": [
    {
     "data": {
      "image/png": "[encoded data removed]",
      "text/plain": [
       "<Figure size 432x288 with 1 Axes>"
      ]
     },
     "metadata": {
      "needs_background": "light"
     },
     "output_type": "display_data"
    }
   ],
   "source": [
    "fig1 = plt.figure(1)\n",
    "x = np.arange(10)+1\n",
    "plt.bar(x, ivlist, width=0.4)\n",
    "plt.xticks(x)\n",
    "plt.ylabel('IV(Information Value)')\n",
    "for a, b in zip(x, ivlist):\n",
    "        plt.text(a, b + 0.01, '%.4f' % b,\n",
    "                 ha='center', va='bottom', fontsize=10)\n",
    "plt.show()"
   ]
  },
  {
   "cell_type": "markdown",
   "metadata": {},
   "source": [
    "# Keep the 1, 2, 3, 7, 9 variables."
   ]
  },
  {
   "cell_type": "code",
   "execution_count": 31,
   "metadata": {},
   "outputs": [],
   "source": [
    "def replace_woe(series, cut, woe):\n",
    "    list = []\n",
    "    i = 0\n",
    "    while i < len(series):\n",
    "        value = series.iloc[i]\n",
    "        j = len(cut) - 2\n",
    "        m = len(cut) - 2\n",
    "        while j >= 0:\n",
    "            if value >= cut[j]:\n",
    "                j -= 1\n",
    "            else:\n",
    "                j -= 1\n",
    "                m -= 1\n",
    "        list.append(woe[m])\n",
    "        i += 1\n",
    "    return list"
   ]
  },
  {
   "cell_type": "code",
   "execution_count": 32,
   "metadata": {},
   "outputs": [],
   "source": [
    "X['RevolvingUtilizationOfUnsecuredLines'] = replace_woe(X['RevolvingUtilizationOfUnsecuredLines'], cutx1, woex1)\n",
    "X['age'] = replace_woe(X['age'], cutx2, woex2)\n",
    "X['NumberOfTime30-59DaysPastDueNotWorse'] = replace_woe(X['NumberOfTime30-59DaysPastDueNotWorse'], cutx3, woex3)\n",
    "X['DebtRatio'] = replace_woe(X['DebtRatio'], cutx4, woex4)\n",
    "X['MonthlyIncome'] = replace_woe(X['MonthlyIncome'], cutx5, woex5)\n",
    "X['NumberOfOpenCreditLinesAndLoans'] = replace_woe(X['NumberOfOpenCreditLinesAndLoans'], cutx6, woex6)\n",
    "X['NumberOfTimes90DaysLate'] = replace_woe(X['NumberOfTimes90DaysLate'], cutx7, woex7)\n",
    "X['NumberRealEstateLoansOrLines'] = replace_woe(X['NumberRealEstateLoansOrLines'], cutx8, woex8)\n",
    "X['NumberOfTime60-89DaysPastDueNotWorse'] = replace_woe(X['NumberOfTime60-89DaysPastDueNotWorse'], cutx9, woex9)\n",
    "X['NumberOfDependents'] = replace_woe(X['NumberOfDependents'], cutx10, woex10)"
   ]
  },
  {
   "cell_type": "code",
   "execution_count": 34,
   "metadata": {},
   "outputs": [],
   "source": [
    "woedata = pd.concat([X, y], axis=1)"
   ]
  },
  {
   "cell_type": "code",
   "execution_count": 35,
   "metadata": {},
   "outputs": [
    {
     "data": {
      "text/html": [
       "<div>\n",
       "<style scoped>\n",
       "    .dataframe tbody tr th:only-of-type {\n",
       "        vertical-align: middle;\n",
       "    }\n",
       "\n",
       "    .dataframe tbody tr th {\n",
       "        vertical-align: top;\n",
       "    }\n",
       "\n",
       "    .dataframe thead th {\n",
       "        text-align: right;\n",
       "    }\n",
       "</style>\n",
       "<table border=\"1\" class=\"dataframe\">\n",
       "  <thead>\n",
       "    <tr style=\"text-align: right;\">\n",
       "      <th></th>\n",
       "      <th>RevolvingUtilizationOfUnsecuredLines</th>\n",
       "      <th>age</th>\n",
       "      <th>NumberOfTime30-59DaysPastDueNotWorse</th>\n",
       "      <th>DebtRatio</th>\n",
       "      <th>MonthlyIncome</th>\n",
       "      <th>NumberOfOpenCreditLinesAndLoans</th>\n",
       "      <th>NumberOfTimes90DaysLate</th>\n",
       "      <th>NumberRealEstateLoansOrLines</th>\n",
       "      <th>NumberOfTime60-89DaysPastDueNotWorse</th>\n",
       "      <th>NumberOfDependents</th>\n",
       "      <th>SeriousDlqin2yrs</th>\n",
       "    </tr>\n",
       "  </thead>\n",
       "  <tbody>\n",
       "    <tr>\n",
       "      <th>1</th>\n",
       "      <td>-1.101</td>\n",
       "      <td>-0.206</td>\n",
       "      <td>-1.738</td>\n",
       "      <td>-0.184</td>\n",
       "      <td>0.336</td>\n",
       "      <td>0.124</td>\n",
       "      <td>-1.966</td>\n",
       "      <td>-0.598</td>\n",
       "      <td>-1.833</td>\n",
       "      <td>-0.300</td>\n",
       "      <td>0</td>\n",
       "    </tr>\n",
       "    <tr>\n",
       "      <th>2</th>\n",
       "      <td>-1.101</td>\n",
       "      <td>-0.335</td>\n",
       "      <td>-0.906</td>\n",
       "      <td>0.136</td>\n",
       "      <td>-0.170</td>\n",
       "      <td>0.025</td>\n",
       "      <td>-1.966</td>\n",
       "      <td>0.242</td>\n",
       "      <td>-1.833</td>\n",
       "      <td>-0.205</td>\n",
       "      <td>1</td>\n",
       "    </tr>\n",
       "    <tr>\n",
       "      <th>3</th>\n",
       "      <td>-1.101</td>\n",
       "      <td>-0.335</td>\n",
       "      <td>-1.738</td>\n",
       "      <td>0.136</td>\n",
       "      <td>-0.170</td>\n",
       "      <td>-0.166</td>\n",
       "      <td>-2.728</td>\n",
       "      <td>0.242</td>\n",
       "      <td>-1.833</td>\n",
       "      <td>-0.100</td>\n",
       "      <td>1</td>\n",
       "    </tr>\n",
       "    <tr>\n",
       "      <th>4</th>\n",
       "      <td>0.291</td>\n",
       "      <td>-0.501</td>\n",
       "      <td>-0.906</td>\n",
       "      <td>0.136</td>\n",
       "      <td>-0.170</td>\n",
       "      <td>0.124</td>\n",
       "      <td>-1.966</td>\n",
       "      <td>0.242</td>\n",
       "      <td>-1.833</td>\n",
       "      <td>-0.100</td>\n",
       "      <td>1</td>\n",
       "    </tr>\n",
       "    <tr>\n",
       "      <th>5</th>\n",
       "      <td>-1.101</td>\n",
       "      <td>-0.166</td>\n",
       "      <td>-1.738</td>\n",
       "      <td>0.136</td>\n",
       "      <td>0.336</td>\n",
       "      <td>0.124</td>\n",
       "      <td>-1.966</td>\n",
       "      <td>0.184</td>\n",
       "      <td>-1.833</td>\n",
       "      <td>-0.100</td>\n",
       "      <td>1</td>\n",
       "    </tr>\n",
       "  </tbody>\n",
       "</table>\n",
       "</div>"
      ],
      "text/plain": [
       "   RevolvingUtilizationOfUnsecuredLines    age  \\\n",
       "1                                -1.101 -0.206   \n",
       "2                                -1.101 -0.335   \n",
       "3                                -1.101 -0.335   \n",
       "4                                 0.291 -0.501   \n",
       "5                                -1.101 -0.166   \n",
       "\n",
       "   NumberOfTime30-59DaysPastDueNotWorse  DebtRatio  MonthlyIncome  \\\n",
       "1                                -1.738     -0.184          0.336   \n",
       "2                                -0.906      0.136         -0.170   \n",
       "3                                -1.738      0.136         -0.170   \n",
       "4                                -0.906      0.136         -0.170   \n",
       "5                                -1.738      0.136          0.336   \n",
       "\n",
       "   NumberOfOpenCreditLinesAndLoans  NumberOfTimes90DaysLate  \\\n",
       "1                            0.124                   -1.966   \n",
       "2                            0.025                   -1.966   \n",
       "3                           -0.166                   -2.728   \n",
       "4                            0.124                   -1.966   \n",
       "5                            0.124                   -1.966   \n",
       "\n",
       "   NumberRealEstateLoansOrLines  NumberOfTime60-89DaysPastDueNotWorse  \\\n",
       "1                        -0.598                                -1.833   \n",
       "2                         0.242                                -1.833   \n",
       "3                         0.242                                -1.833   \n",
       "4                         0.242                                -1.833   \n",
       "5                         0.184                                -1.833   \n",
       "\n",
       "   NumberOfDependents  SeriousDlqin2yrs  \n",
       "1              -0.300                 0  \n",
       "2              -0.205                 1  \n",
       "3              -0.100                 1  \n",
       "4              -0.100                 1  \n",
       "5              -0.100                 1  "
      ]
     },
     "execution_count": 35,
     "metadata": {},
     "output_type": "execute_result"
    }
   ],
   "source": [
    "woedata.head()"
   ]
  },
  {
   "cell_type": "code",
   "execution_count": 38,
   "metadata": {},
   "outputs": [],
   "source": [
    "woedata.to_csv('WoeData.csv', index=False)"
   ]
  },
  {
   "cell_type": "code",
   "execution_count": 37,
   "metadata": {},
   "outputs": [],
   "source": [
    "test_data['RevolvingUtilizationOfUnsecuredLines'] = replace_woe(test_data['RevolvingUtilizationOfUnsecuredLines'], cutx1, woex1)\n",
    "test_data['age'] = replace_woe(test_data['age'], cutx2, woex2)\n",
    "test_data['NumberOfTime30-59DaysPastDueNotWorse'] = replace_woe(test_data['NumberOfTime30-59DaysPastDueNotWorse'], cutx3, woex3)\n",
    "test_data['DebtRatio'] = replace_woe(test_data['DebtRatio'], cutx4, woex4)\n",
    "test_data['MonthlyIncome'] = replace_woe(test_data['MonthlyIncome'], cutx5, woex5)\n",
    "test_data['NumberOfOpenCreditLinesAndLoans'] = replace_woe(test_data['NumberOfOpenCreditLinesAndLoans'], cutx6, woex6)\n",
    "test_data['NumberOfTimes90DaysLate'] = replace_woe(test_data['NumberOfTimes90DaysLate'], cutx7, woex7)\n",
    "test_data['NumberRealEstateLoansOrLines'] = replace_woe(test_data['NumberRealEstateLoansOrLines'], cutx8, woex8)\n",
    "test_data['NumberOfTime60-89DaysPastDueNotWorse'] = replace_woe(test_data['NumberOfTime60-89DaysPastDueNotWorse'], cutx9, woex9)\n",
    "test_data['NumberOfDependents'] = replace_woe(test_data['NumberOfDependents'], cutx10, woex10)\n",
    "test_data.to_csv('TestWoeData.csv', index=False)"
   ]
  }
 ],
 "metadata": {
  "kernelspec": {
   "display_name": "Python 3",
   "language": "python",
   "name": "python3"
  },
  "language_info": {
   "codemirror_mode": {
    "name": "ipython",
    "version": 3
   },
   "file_extension": ".py",
   "mimetype": "text/x-python",
   "name": "python",
   "nbconvert_exporter": "python",
   "pygments_lexer": "ipython3",
   "version": "3.6.8"
  }
 },
 "nbformat": 4,
 "nbformat_minor": 2
}
