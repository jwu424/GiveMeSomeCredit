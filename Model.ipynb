{
 "cells": [
  {
   "cell_type": "code",
   "execution_count": 3,
   "metadata": {},
   "outputs": [
    {
     "name": "stderr",
     "output_type": "stream",
     "text": [
      "/anaconda3/lib/python3.6/site-packages/sklearn/ensemble/weight_boosting.py:29: DeprecationWarning: numpy.core.umath_tests is an internal NumPy module and should not be imported. It will be removed in a future NumPy release.\n",
      "  from numpy.core.umath_tests import inner1d\n",
      "/anaconda3/lib/python3.6/site-packages/sklearn/cross_validation.py:41: DeprecationWarning: This module was deprecated in version 0.18 in favor of the model_selection module into which all the refactored classes and functions are moved. Also note that the interface of the new CV iterators are different from that of this module. This module will be removed in 0.20.\n",
      "  \"This module will be removed in 0.20.\", DeprecationWarning)\n"
     ]
    }
   ],
   "source": [
    "import pandas as pd\n",
    "import numpy as np\n",
    "from sklearn.ensemble import RandomForestRegressor\n",
    "import seaborn as sns\n",
    "import matplotlib.pyplot as plt\n",
    "from sklearn.cross_validation import train_test_split\n",
    "from scipy import stats\n",
    "from sklearn.linear_model import LogisticRegressionCV\n",
    "from sklearn.metrics import roc_curve, auc\n",
    "import statsmodels.api as sm"
   ]
  },
  {
   "cell_type": "code",
   "execution_count": 4,
   "metadata": {},
   "outputs": [],
   "source": [
    "train = pd.read_csv(\"~/data/kaggle/GiveMeSomeCredit/WoeData.csv\")\n",
    "test = pd.read_csv(\"~/data/kaggle/GiveMeSomeCredit/TestWoeData.csv\",)"
   ]
  },
  {
   "cell_type": "code",
   "execution_count": 5,
   "metadata": {},
   "outputs": [],
   "source": [
    "X=train.drop(['SeriousDlqin2yrs', 'DebtRatio','MonthlyIncome',\n",
    "                'NumberOfOpenCreditLinesAndLoans',\n",
    "                'NumberRealEstateLoansOrLines','NumberOfDependents'],axis=1)\n",
    "y = train.iloc[:, -1]"
   ]
  },
  {
   "cell_type": "code",
   "execution_count": 6,
   "metadata": {},
   "outputs": [],
   "source": [
    "test=test.drop(['SeriousDlqin2yrs', 'DebtRatio','MonthlyIncome',\n",
    "                'NumberOfOpenCreditLinesAndLoans',\n",
    "                'NumberRealEstateLoansOrLines','NumberOfDependents'],axis=1)"
   ]
  },
  {
   "cell_type": "code",
   "execution_count": 7,
   "metadata": {},
   "outputs": [],
   "source": [
    "X_train, X_test, y_train, y_test = train_test_split(X, y, test_size=0.3)"
   ]
  },
  {
   "cell_type": "code",
   "execution_count": 112,
   "metadata": {},
   "outputs": [
    {
     "data": {
      "text/plain": [
       "LogisticRegressionCV(Cs=10, class_weight=None, cv=15, dual=False,\n",
       "           fit_intercept=True, intercept_scaling=1.0, max_iter=100,\n",
       "           multi_class='ovr', n_jobs=1, penalty='l2', random_state=0,\n",
       "           refit=True, scoring=None, solver='lbfgs', tol=0.0001, verbose=0)"
      ]
     },
     "execution_count": 112,
     "metadata": {},
     "output_type": "execute_result"
    }
   ],
   "source": [
    "model = LogisticRegressionCV(random_state=0, cv=15)\n",
    "model.fit(X_train, y_train)"
   ]
  },
  {
   "cell_type": "code",
   "execution_count": 113,
   "metadata": {},
   "outputs": [],
   "source": [
    "pred = model.predict_proba(X_test)[:, 1]"
   ]
  },
  {
   "cell_type": "code",
   "execution_count": 114,
   "metadata": {},
   "outputs": [
    {
     "data": {
      "text/plain": [
       "0.8529791610016413"
      ]
     },
     "execution_count": 114,
     "metadata": {},
     "output_type": "execute_result"
    }
   ],
   "source": [
    "fpr, tpr, threshold = roc_curve(y_test, pred)\n",
    "rocauc = auc(fpr, tpr)\n",
    "rocauc"
   ]
  },
  {
   "cell_type": "code",
   "execution_count": 115,
   "metadata": {},
   "outputs": [
    {
     "data": {
      "image/png": "[encoded data removed]",
      "text/plain": [
       "<Figure size 432x288 with 1 Axes>"
      ]
     },
     "metadata": {
      "needs_background": "light"
     },
     "output_type": "display_data"
    }
   ],
   "source": [
    "plt.figure()\n",
    "lw = 2\n",
    "plt.plot(fpr, tpr, color='darkorange',\n",
    "         lw=lw, label='ROC curve (area = %0.2f)' % rocauc)\n",
    "plt.plot([0, 1], [0, 1], color='navy', lw=lw, linestyle='--')\n",
    "plt.xlim([0.0, 1.0])\n",
    "plt.ylim([0.0, 1.05])\n",
    "plt.xlabel('False Positive Rate')\n",
    "plt.ylabel('True Positive Rate')\n",
    "plt.title('Receiver operating characteristic example')\n",
    "plt.legend(loc=\"lower right\")\n",
    "plt.show()"
   ]
  },
  {
   "cell_type": "code",
   "execution_count": 120,
   "metadata": {},
   "outputs": [],
   "source": [
    "pred_test = model.predict_proba(test)[:, 1]"
   ]
  },
  {
   "cell_type": "code",
   "execution_count": 121,
   "metadata": {},
   "outputs": [],
   "source": [
    "orig = pd.read_csv(\"~/data/kaggle/GiveMeSomeCredit/cs-test.csv\")\n"
   ]
  },
  {
   "cell_type": "code",
   "execution_count": 122,
   "metadata": {},
   "outputs": [],
   "source": [
    "submission = pd.DataFrame({\"Id\": orig.loc[:, 'Unnamed: 0'].values})\n",
    "submission[\"Probability\"] = pred_test\n",
    "submission.to_csv(\"submission1.csv\", index=False)"
   ]
  },
  {
   "cell_type": "code",
   "execution_count": 2,
   "metadata": {},
   "outputs": [],
   "source": [
    "import lightgbm as lgb\n",
    "import os\n",
    "os.environ[\"KMP_DUPLICATE_LIB_OK\"] = \"TRUE\""
   ]
  },
  {
   "cell_type": "code",
   "execution_count": 8,
   "metadata": {},
   "outputs": [],
   "source": [
    "lgb_sk = lgb.LGBMClassifier(random_state=0).fit(X_train, y_train)"
   ]
  },
  {
   "cell_type": "code",
   "execution_count": 9,
   "metadata": {},
   "outputs": [],
   "source": [
    "preddd = lgb_sk.predict_proba(X_test)[:, 1]"
   ]
  },
  {
   "cell_type": "code",
   "execution_count": 10,
   "metadata": {},
   "outputs": [
    {
     "data": {
      "text/plain": [
       "0.8505561011735641"
      ]
     },
     "execution_count": 10,
     "metadata": {},
     "output_type": "execute_result"
    }
   ],
   "source": [
    "fpr, tpr, threshold = roc_curve(y_test, preddd)\n",
    "rocauc = auc(fpr, tpr)\n",
    "rocauc"
   ]
  },
  {
   "cell_type": "code",
   "execution_count": 11,
   "metadata": {},
   "outputs": [
    {
     "name": "stdout",
     "output_type": "stream",
     "text": [
      "[1]\tvalid_0's auc: 0.846217\n",
      "Training until validation scores don't improve for 10 rounds.\n",
      "[2]\tvalid_0's auc: 0.846151\n",
      "[3]\tvalid_0's auc: 0.846883\n",
      "[4]\tvalid_0's auc: 0.846899\n",
      "[5]\tvalid_0's auc: 0.846971\n",
      "[6]\tvalid_0's auc: 0.851054\n",
      "[7]\tvalid_0's auc: 0.851012\n",
      "[8]\tvalid_0's auc: 0.85102\n",
      "[9]\tvalid_0's auc: 0.851037\n",
      "[10]\tvalid_0's auc: 0.851046\n",
      "[11]\tvalid_0's auc: 0.851023\n",
      "[12]\tvalid_0's auc: 0.851464\n",
      "[13]\tvalid_0's auc: 0.851485\n",
      "[14]\tvalid_0's auc: 0.851642\n",
      "[15]\tvalid_0's auc: 0.851613\n",
      "[16]\tvalid_0's auc: 0.851857\n",
      "[17]\tvalid_0's auc: 0.851828\n",
      "[18]\tvalid_0's auc: 0.852048\n",
      "[19]\tvalid_0's auc: 0.852035\n",
      "[20]\tvalid_0's auc: 0.852034\n",
      "[21]\tvalid_0's auc: 0.852003\n",
      "[22]\tvalid_0's auc: 0.852053\n",
      "[23]\tvalid_0's auc: 0.852075\n",
      "[24]\tvalid_0's auc: 0.852153\n",
      "[25]\tvalid_0's auc: 0.852185\n",
      "[26]\tvalid_0's auc: 0.852181\n",
      "[27]\tvalid_0's auc: 0.852209\n",
      "[28]\tvalid_0's auc: 0.852122\n",
      "[29]\tvalid_0's auc: 0.852157\n",
      "[30]\tvalid_0's auc: 0.852109\n",
      "[31]\tvalid_0's auc: 0.852086\n",
      "[32]\tvalid_0's auc: 0.852036\n",
      "[33]\tvalid_0's auc: 0.852303\n",
      "[34]\tvalid_0's auc: 0.852229\n",
      "[35]\tvalid_0's auc: 0.852407\n",
      "[36]\tvalid_0's auc: 0.852396\n",
      "[37]\tvalid_0's auc: 0.852367\n",
      "[38]\tvalid_0's auc: 0.852372\n",
      "[39]\tvalid_0's auc: 0.852395\n",
      "[40]\tvalid_0's auc: 0.852427\n",
      "[41]\tvalid_0's auc: 0.852443\n",
      "[42]\tvalid_0's auc: 0.852427\n",
      "[43]\tvalid_0's auc: 0.852447\n",
      "[44]\tvalid_0's auc: 0.852423\n",
      "[45]\tvalid_0's auc: 0.852399\n",
      "[46]\tvalid_0's auc: 0.852382\n",
      "[47]\tvalid_0's auc: 0.85234\n",
      "[48]\tvalid_0's auc: 0.852322\n",
      "[49]\tvalid_0's auc: 0.852338\n",
      "[50]\tvalid_0's auc: 0.852336\n",
      "[51]\tvalid_0's auc: 0.852348\n",
      "[52]\tvalid_0's auc: 0.852284\n",
      "[53]\tvalid_0's auc: 0.852242\n",
      "Early stopping, best iteration is:\n",
      "[43]\tvalid_0's auc: 0.852447\n"
     ]
    }
   ],
   "source": [
    "lgb_train = lgb.Dataset(X_train,y_train)\n",
    "lgb_test = lgb.Dataset(X_test,y_test,reference=lgb_train)\n",
    "lgb_origi_params = {'boosting_type':'gbdt',\n",
    "              'max_depth':-1,\n",
    "              'num_leaves':31,\n",
    "              'bagging_fraction':1.0,\n",
    "              'feature_fraction':1.0,\n",
    "              'learning_rate':0.1,\n",
    "              'metric': 'auc'}\n",
    "lgb_origi = lgb.train(train_set=lgb_train,\n",
    "                      early_stopping_rounds=10,\n",
    "                      num_boost_round=400,\n",
    "                      params=lgb_origi_params,\n",
    "                      valid_sets=lgb_test)"
   ]
  },
  {
   "cell_type": "code",
   "execution_count": null,
   "metadata": {},
   "outputs": [],
   "source": []
  }
 ],
 "metadata": {
  "kernelspec": {
   "display_name": "Python 3",
   "language": "python",
   "name": "python3"
  },
  "language_info": {
   "codemirror_mode": {
    "name": "ipython",
    "version": 3
   },
   "file_extension": ".py",
   "mimetype": "text/x-python",
   "name": "python",
   "nbconvert_exporter": "python",
   "pygments_lexer": "ipython3",
   "version": "3.6.8"
  }
 },
 "nbformat": 4,
 "nbformat_minor": 2
}
